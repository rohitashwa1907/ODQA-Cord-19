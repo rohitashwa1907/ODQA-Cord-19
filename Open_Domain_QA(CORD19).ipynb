{
  "nbformat": 4,
  "nbformat_minor": 0,
  "metadata": {
    "colab": {
      "name": "Open_Domain_QA_Final(CORD19).ipynb",
      "provenance": [],
      "collapsed_sections": []
    },
    "kernelspec": {
      "name": "python3",
      "display_name": "Python 3"
    },
    "language_info": {
      "name": "python"
    },
    "widgets": {
      "application/vnd.jupyter.widget-state+json": {
        "ae99fa2b2ae642efb86e10d437287f68": {
          "model_module": "@jupyter-widgets/controls",
          "model_name": "HBoxModel",
          "state": {
            "_view_name": "HBoxView",
            "_dom_classes": [],
            "_model_name": "HBoxModel",
            "_view_module": "@jupyter-widgets/controls",
            "_model_module_version": "1.5.0",
            "_view_count": null,
            "_view_module_version": "1.5.0",
            "box_style": "",
            "layout": "IPY_MODEL_b5239be17b444c81ab4b572060700048",
            "_model_module": "@jupyter-widgets/controls",
            "children": [
              "IPY_MODEL_41381137d6c94da8868cf696085ccccc",
              "IPY_MODEL_9206b915c0f4485a9fad6ae8f1f1395b"
            ]
          }
        },
        "b5239be17b444c81ab4b572060700048": {
          "model_module": "@jupyter-widgets/base",
          "model_name": "LayoutModel",
          "state": {
            "_view_name": "LayoutView",
            "grid_template_rows": null,
            "right": null,
            "justify_content": null,
            "_view_module": "@jupyter-widgets/base",
            "overflow": null,
            "_model_module_version": "1.2.0",
            "_view_count": null,
            "flex_flow": null,
            "width": null,
            "min_width": null,
            "border": null,
            "align_items": null,
            "bottom": null,
            "_model_module": "@jupyter-widgets/base",
            "top": null,
            "grid_column": null,
            "overflow_y": null,
            "overflow_x": null,
            "grid_auto_flow": null,
            "grid_area": null,
            "grid_template_columns": null,
            "flex": null,
            "_model_name": "LayoutModel",
            "justify_items": null,
            "grid_row": null,
            "max_height": null,
            "align_content": null,
            "visibility": null,
            "align_self": null,
            "height": null,
            "min_height": null,
            "padding": null,
            "grid_auto_rows": null,
            "grid_gap": null,
            "max_width": null,
            "order": null,
            "_view_module_version": "1.2.0",
            "grid_template_areas": null,
            "object_position": null,
            "object_fit": null,
            "grid_auto_columns": null,
            "margin": null,
            "display": null,
            "left": null
          }
        },
        "41381137d6c94da8868cf696085ccccc": {
          "model_module": "@jupyter-widgets/controls",
          "model_name": "FloatProgressModel",
          "state": {
            "_view_name": "ProgressView",
            "style": "IPY_MODEL_c5917af061544049964f5009ce54e522",
            "_dom_classes": [],
            "description": "100%",
            "_model_name": "FloatProgressModel",
            "bar_style": "success",
            "max": 244721538,
            "_view_module": "@jupyter-widgets/controls",
            "_model_module_version": "1.5.0",
            "value": 244721538,
            "_view_count": null,
            "_view_module_version": "1.5.0",
            "orientation": "horizontal",
            "min": 0,
            "description_tooltip": null,
            "_model_module": "@jupyter-widgets/controls",
            "layout": "IPY_MODEL_0b4ad5313a254806b7d659f119fc0cc6"
          }
        },
        "9206b915c0f4485a9fad6ae8f1f1395b": {
          "model_module": "@jupyter-widgets/controls",
          "model_name": "HTMLModel",
          "state": {
            "_view_name": "HTMLView",
            "style": "IPY_MODEL_2d68ed395c2a466dbc3ec522415d25d1",
            "_dom_classes": [],
            "description": "",
            "_model_name": "HTMLModel",
            "placeholder": "​",
            "_view_module": "@jupyter-widgets/controls",
            "_model_module_version": "1.5.0",
            "value": " 245M/245M [00:19&lt;00:00, 12.6MB/s]",
            "_view_count": null,
            "_view_module_version": "1.5.0",
            "description_tooltip": null,
            "_model_module": "@jupyter-widgets/controls",
            "layout": "IPY_MODEL_12bc55d508e84f0d97020d244e03ea2d"
          }
        },
        "c5917af061544049964f5009ce54e522": {
          "model_module": "@jupyter-widgets/controls",
          "model_name": "ProgressStyleModel",
          "state": {
            "_view_name": "StyleView",
            "_model_name": "ProgressStyleModel",
            "description_width": "initial",
            "_view_module": "@jupyter-widgets/base",
            "_model_module_version": "1.5.0",
            "_view_count": null,
            "_view_module_version": "1.2.0",
            "bar_color": null,
            "_model_module": "@jupyter-widgets/controls"
          }
        },
        "0b4ad5313a254806b7d659f119fc0cc6": {
          "model_module": "@jupyter-widgets/base",
          "model_name": "LayoutModel",
          "state": {
            "_view_name": "LayoutView",
            "grid_template_rows": null,
            "right": null,
            "justify_content": null,
            "_view_module": "@jupyter-widgets/base",
            "overflow": null,
            "_model_module_version": "1.2.0",
            "_view_count": null,
            "flex_flow": null,
            "width": null,
            "min_width": null,
            "border": null,
            "align_items": null,
            "bottom": null,
            "_model_module": "@jupyter-widgets/base",
            "top": null,
            "grid_column": null,
            "overflow_y": null,
            "overflow_x": null,
            "grid_auto_flow": null,
            "grid_area": null,
            "grid_template_columns": null,
            "flex": null,
            "_model_name": "LayoutModel",
            "justify_items": null,
            "grid_row": null,
            "max_height": null,
            "align_content": null,
            "visibility": null,
            "align_self": null,
            "height": null,
            "min_height": null,
            "padding": null,
            "grid_auto_rows": null,
            "grid_gap": null,
            "max_width": null,
            "order": null,
            "_view_module_version": "1.2.0",
            "grid_template_areas": null,
            "object_position": null,
            "object_fit": null,
            "grid_auto_columns": null,
            "margin": null,
            "display": null,
            "left": null
          }
        },
        "2d68ed395c2a466dbc3ec522415d25d1": {
          "model_module": "@jupyter-widgets/controls",
          "model_name": "DescriptionStyleModel",
          "state": {
            "_view_name": "StyleView",
            "_model_name": "DescriptionStyleModel",
            "description_width": "",
            "_view_module": "@jupyter-widgets/base",
            "_model_module_version": "1.5.0",
            "_view_count": null,
            "_view_module_version": "1.2.0",
            "_model_module": "@jupyter-widgets/controls"
          }
        },
        "12bc55d508e84f0d97020d244e03ea2d": {
          "model_module": "@jupyter-widgets/base",
          "model_name": "LayoutModel",
          "state": {
            "_view_name": "LayoutView",
            "grid_template_rows": null,
            "right": null,
            "justify_content": null,
            "_view_module": "@jupyter-widgets/base",
            "overflow": null,
            "_model_module_version": "1.2.0",
            "_view_count": null,
            "flex_flow": null,
            "width": null,
            "min_width": null,
            "border": null,
            "align_items": null,
            "bottom": null,
            "_model_module": "@jupyter-widgets/base",
            "top": null,
            "grid_column": null,
            "overflow_y": null,
            "overflow_x": null,
            "grid_auto_flow": null,
            "grid_area": null,
            "grid_template_columns": null,
            "flex": null,
            "_model_name": "LayoutModel",
            "justify_items": null,
            "grid_row": null,
            "max_height": null,
            "align_content": null,
            "visibility": null,
            "align_self": null,
            "height": null,
            "min_height": null,
            "padding": null,
            "grid_auto_rows": null,
            "grid_gap": null,
            "max_width": null,
            "order": null,
            "_view_module_version": "1.2.0",
            "grid_template_areas": null,
            "object_position": null,
            "object_fit": null,
            "grid_auto_columns": null,
            "margin": null,
            "display": null,
            "left": null
          }
        },
        "e613c4a3d5f44e73914ba220e780537a": {
          "model_module": "@jupyter-widgets/controls",
          "model_name": "HBoxModel",
          "state": {
            "_view_name": "HBoxView",
            "_dom_classes": [],
            "_model_name": "HBoxModel",
            "_view_module": "@jupyter-widgets/controls",
            "_model_module_version": "1.5.0",
            "_view_count": null,
            "_view_module_version": "1.5.0",
            "box_style": "",
            "layout": "IPY_MODEL_39f5e6bd574a41b0a4e0288df27e623a",
            "_model_module": "@jupyter-widgets/controls",
            "children": [
              "IPY_MODEL_be32a7ae3eb04fe3b13fe0823825391e",
              "IPY_MODEL_99c3809e9d734d68b11eb8c50da4e424"
            ]
          }
        },
        "39f5e6bd574a41b0a4e0288df27e623a": {
          "model_module": "@jupyter-widgets/base",
          "model_name": "LayoutModel",
          "state": {
            "_view_name": "LayoutView",
            "grid_template_rows": null,
            "right": null,
            "justify_content": null,
            "_view_module": "@jupyter-widgets/base",
            "overflow": null,
            "_model_module_version": "1.2.0",
            "_view_count": null,
            "flex_flow": null,
            "width": null,
            "min_width": null,
            "border": null,
            "align_items": null,
            "bottom": null,
            "_model_module": "@jupyter-widgets/base",
            "top": null,
            "grid_column": null,
            "overflow_y": null,
            "overflow_x": null,
            "grid_auto_flow": null,
            "grid_area": null,
            "grid_template_columns": null,
            "flex": null,
            "_model_name": "LayoutModel",
            "justify_items": null,
            "grid_row": null,
            "max_height": null,
            "align_content": null,
            "visibility": null,
            "align_self": null,
            "height": null,
            "min_height": null,
            "padding": null,
            "grid_auto_rows": null,
            "grid_gap": null,
            "max_width": null,
            "order": null,
            "_view_module_version": "1.2.0",
            "grid_template_areas": null,
            "object_position": null,
            "object_fit": null,
            "grid_auto_columns": null,
            "margin": null,
            "display": null,
            "left": null
          }
        },
        "be32a7ae3eb04fe3b13fe0823825391e": {
          "model_module": "@jupyter-widgets/controls",
          "model_name": "FloatProgressModel",
          "state": {
            "_view_name": "ProgressView",
            "style": "IPY_MODEL_4652edb6e03b44048a231f9d9ed23cdd",
            "_dom_classes": [],
            "description": "Batches: 100%",
            "_model_name": "FloatProgressModel",
            "bar_style": "success",
            "max": 4688,
            "_view_module": "@jupyter-widgets/controls",
            "_model_module_version": "1.5.0",
            "value": 4688,
            "_view_count": null,
            "_view_module_version": "1.5.0",
            "orientation": "horizontal",
            "min": 0,
            "description_tooltip": null,
            "_model_module": "@jupyter-widgets/controls",
            "layout": "IPY_MODEL_3299f0403cea4db5b8796091f5c26b6f"
          }
        },
        "99c3809e9d734d68b11eb8c50da4e424": {
          "model_module": "@jupyter-widgets/controls",
          "model_name": "HTMLModel",
          "state": {
            "_view_name": "HTMLView",
            "style": "IPY_MODEL_dbe951f518ae41d99f69edb34fc6c122",
            "_dom_classes": [],
            "description": "",
            "_model_name": "HTMLModel",
            "placeholder": "​",
            "_view_module": "@jupyter-widgets/controls",
            "_model_module_version": "1.5.0",
            "value": " 4688/4688 [31:10&lt;00:00,  2.51it/s]",
            "_view_count": null,
            "_view_module_version": "1.5.0",
            "description_tooltip": null,
            "_model_module": "@jupyter-widgets/controls",
            "layout": "IPY_MODEL_c99af38bb57f41fd9bcc2cd0d2db64e2"
          }
        },
        "4652edb6e03b44048a231f9d9ed23cdd": {
          "model_module": "@jupyter-widgets/controls",
          "model_name": "ProgressStyleModel",
          "state": {
            "_view_name": "StyleView",
            "_model_name": "ProgressStyleModel",
            "description_width": "initial",
            "_view_module": "@jupyter-widgets/base",
            "_model_module_version": "1.5.0",
            "_view_count": null,
            "_view_module_version": "1.2.0",
            "bar_color": null,
            "_model_module": "@jupyter-widgets/controls"
          }
        },
        "3299f0403cea4db5b8796091f5c26b6f": {
          "model_module": "@jupyter-widgets/base",
          "model_name": "LayoutModel",
          "state": {
            "_view_name": "LayoutView",
            "grid_template_rows": null,
            "right": null,
            "justify_content": null,
            "_view_module": "@jupyter-widgets/base",
            "overflow": null,
            "_model_module_version": "1.2.0",
            "_view_count": null,
            "flex_flow": null,
            "width": null,
            "min_width": null,
            "border": null,
            "align_items": null,
            "bottom": null,
            "_model_module": "@jupyter-widgets/base",
            "top": null,
            "grid_column": null,
            "overflow_y": null,
            "overflow_x": null,
            "grid_auto_flow": null,
            "grid_area": null,
            "grid_template_columns": null,
            "flex": null,
            "_model_name": "LayoutModel",
            "justify_items": null,
            "grid_row": null,
            "max_height": null,
            "align_content": null,
            "visibility": null,
            "align_self": null,
            "height": null,
            "min_height": null,
            "padding": null,
            "grid_auto_rows": null,
            "grid_gap": null,
            "max_width": null,
            "order": null,
            "_view_module_version": "1.2.0",
            "grid_template_areas": null,
            "object_position": null,
            "object_fit": null,
            "grid_auto_columns": null,
            "margin": null,
            "display": null,
            "left": null
          }
        },
        "dbe951f518ae41d99f69edb34fc6c122": {
          "model_module": "@jupyter-widgets/controls",
          "model_name": "DescriptionStyleModel",
          "state": {
            "_view_name": "StyleView",
            "_model_name": "DescriptionStyleModel",
            "description_width": "",
            "_view_module": "@jupyter-widgets/base",
            "_model_module_version": "1.5.0",
            "_view_count": null,
            "_view_module_version": "1.2.0",
            "_model_module": "@jupyter-widgets/controls"
          }
        },
        "c99af38bb57f41fd9bcc2cd0d2db64e2": {
          "model_module": "@jupyter-widgets/base",
          "model_name": "LayoutModel",
          "state": {
            "_view_name": "LayoutView",
            "grid_template_rows": null,
            "right": null,
            "justify_content": null,
            "_view_module": "@jupyter-widgets/base",
            "overflow": null,
            "_model_module_version": "1.2.0",
            "_view_count": null,
            "flex_flow": null,
            "width": null,
            "min_width": null,
            "border": null,
            "align_items": null,
            "bottom": null,
            "_model_module": "@jupyter-widgets/base",
            "top": null,
            "grid_column": null,
            "overflow_y": null,
            "overflow_x": null,
            "grid_auto_flow": null,
            "grid_area": null,
            "grid_template_columns": null,
            "flex": null,
            "_model_name": "LayoutModel",
            "justify_items": null,
            "grid_row": null,
            "max_height": null,
            "align_content": null,
            "visibility": null,
            "align_self": null,
            "height": null,
            "min_height": null,
            "padding": null,
            "grid_auto_rows": null,
            "grid_gap": null,
            "max_width": null,
            "order": null,
            "_view_module_version": "1.2.0",
            "grid_template_areas": null,
            "object_position": null,
            "object_fit": null,
            "grid_auto_columns": null,
            "margin": null,
            "display": null,
            "left": null
          }
        },
        "26a90edaa8e54bca822e5360408ee547": {
          "model_module": "@jupyter-widgets/controls",
          "model_name": "HBoxModel",
          "state": {
            "_view_name": "HBoxView",
            "_dom_classes": [],
            "_model_name": "HBoxModel",
            "_view_module": "@jupyter-widgets/controls",
            "_model_module_version": "1.5.0",
            "_view_count": null,
            "_view_module_version": "1.5.0",
            "box_style": "",
            "layout": "IPY_MODEL_c7310bf364cc43b9b81259bc434f065b",
            "_model_module": "@jupyter-widgets/controls",
            "children": [
              "IPY_MODEL_804e1bf452a5456faf3b22ac89314c7b",
              "IPY_MODEL_e6832d95ab034354a38586192aae06b6"
            ]
          }
        },
        "c7310bf364cc43b9b81259bc434f065b": {
          "model_module": "@jupyter-widgets/base",
          "model_name": "LayoutModel",
          "state": {
            "_view_name": "LayoutView",
            "grid_template_rows": null,
            "right": null,
            "justify_content": null,
            "_view_module": "@jupyter-widgets/base",
            "overflow": null,
            "_model_module_version": "1.2.0",
            "_view_count": null,
            "flex_flow": null,
            "width": null,
            "min_width": null,
            "border": null,
            "align_items": null,
            "bottom": null,
            "_model_module": "@jupyter-widgets/base",
            "top": null,
            "grid_column": null,
            "overflow_y": null,
            "overflow_x": null,
            "grid_auto_flow": null,
            "grid_area": null,
            "grid_template_columns": null,
            "flex": null,
            "_model_name": "LayoutModel",
            "justify_items": null,
            "grid_row": null,
            "max_height": null,
            "align_content": null,
            "visibility": null,
            "align_self": null,
            "height": null,
            "min_height": null,
            "padding": null,
            "grid_auto_rows": null,
            "grid_gap": null,
            "max_width": null,
            "order": null,
            "_view_module_version": "1.2.0",
            "grid_template_areas": null,
            "object_position": null,
            "object_fit": null,
            "grid_auto_columns": null,
            "margin": null,
            "display": null,
            "left": null
          }
        },
        "804e1bf452a5456faf3b22ac89314c7b": {
          "model_module": "@jupyter-widgets/controls",
          "model_name": "FloatProgressModel",
          "state": {
            "_view_name": "ProgressView",
            "style": "IPY_MODEL_74111f0c49a544be87ecc463edf7c0fa",
            "_dom_classes": [],
            "description": "Downloading: 100%",
            "_model_name": "FloatProgressModel",
            "bar_style": "success",
            "max": 794,
            "_view_module": "@jupyter-widgets/controls",
            "_model_module_version": "1.5.0",
            "value": 794,
            "_view_count": null,
            "_view_module_version": "1.5.0",
            "orientation": "horizontal",
            "min": 0,
            "description_tooltip": null,
            "_model_module": "@jupyter-widgets/controls",
            "layout": "IPY_MODEL_d18c3a7c22534fc490deb0202a971180"
          }
        },
        "e6832d95ab034354a38586192aae06b6": {
          "model_module": "@jupyter-widgets/controls",
          "model_name": "HTMLModel",
          "state": {
            "_view_name": "HTMLView",
            "style": "IPY_MODEL_84c4417a6f294d2ab664f73e67965da9",
            "_dom_classes": [],
            "description": "",
            "_model_name": "HTMLModel",
            "placeholder": "​",
            "_view_module": "@jupyter-widgets/controls",
            "_model_module_version": "1.5.0",
            "value": " 794/794 [00:00&lt;00:00, 992B/s]",
            "_view_count": null,
            "_view_module_version": "1.5.0",
            "description_tooltip": null,
            "_model_module": "@jupyter-widgets/controls",
            "layout": "IPY_MODEL_634344214edf4f0894cea8f25ee95a42"
          }
        },
        "74111f0c49a544be87ecc463edf7c0fa": {
          "model_module": "@jupyter-widgets/controls",
          "model_name": "ProgressStyleModel",
          "state": {
            "_view_name": "StyleView",
            "_model_name": "ProgressStyleModel",
            "description_width": "initial",
            "_view_module": "@jupyter-widgets/base",
            "_model_module_version": "1.5.0",
            "_view_count": null,
            "_view_module_version": "1.2.0",
            "bar_color": null,
            "_model_module": "@jupyter-widgets/controls"
          }
        },
        "d18c3a7c22534fc490deb0202a971180": {
          "model_module": "@jupyter-widgets/base",
          "model_name": "LayoutModel",
          "state": {
            "_view_name": "LayoutView",
            "grid_template_rows": null,
            "right": null,
            "justify_content": null,
            "_view_module": "@jupyter-widgets/base",
            "overflow": null,
            "_model_module_version": "1.2.0",
            "_view_count": null,
            "flex_flow": null,
            "width": null,
            "min_width": null,
            "border": null,
            "align_items": null,
            "bottom": null,
            "_model_module": "@jupyter-widgets/base",
            "top": null,
            "grid_column": null,
            "overflow_y": null,
            "overflow_x": null,
            "grid_auto_flow": null,
            "grid_area": null,
            "grid_template_columns": null,
            "flex": null,
            "_model_name": "LayoutModel",
            "justify_items": null,
            "grid_row": null,
            "max_height": null,
            "align_content": null,
            "visibility": null,
            "align_self": null,
            "height": null,
            "min_height": null,
            "padding": null,
            "grid_auto_rows": null,
            "grid_gap": null,
            "max_width": null,
            "order": null,
            "_view_module_version": "1.2.0",
            "grid_template_areas": null,
            "object_position": null,
            "object_fit": null,
            "grid_auto_columns": null,
            "margin": null,
            "display": null,
            "left": null
          }
        },
        "84c4417a6f294d2ab664f73e67965da9": {
          "model_module": "@jupyter-widgets/controls",
          "model_name": "DescriptionStyleModel",
          "state": {
            "_view_name": "StyleView",
            "_model_name": "DescriptionStyleModel",
            "description_width": "",
            "_view_module": "@jupyter-widgets/base",
            "_model_module_version": "1.5.0",
            "_view_count": null,
            "_view_module_version": "1.2.0",
            "_model_module": "@jupyter-widgets/controls"
          }
        },
        "634344214edf4f0894cea8f25ee95a42": {
          "model_module": "@jupyter-widgets/base",
          "model_name": "LayoutModel",
          "state": {
            "_view_name": "LayoutView",
            "grid_template_rows": null,
            "right": null,
            "justify_content": null,
            "_view_module": "@jupyter-widgets/base",
            "overflow": null,
            "_model_module_version": "1.2.0",
            "_view_count": null,
            "flex_flow": null,
            "width": null,
            "min_width": null,
            "border": null,
            "align_items": null,
            "bottom": null,
            "_model_module": "@jupyter-widgets/base",
            "top": null,
            "grid_column": null,
            "overflow_y": null,
            "overflow_x": null,
            "grid_auto_flow": null,
            "grid_area": null,
            "grid_template_columns": null,
            "flex": null,
            "_model_name": "LayoutModel",
            "justify_items": null,
            "grid_row": null,
            "max_height": null,
            "align_content": null,
            "visibility": null,
            "align_self": null,
            "height": null,
            "min_height": null,
            "padding": null,
            "grid_auto_rows": null,
            "grid_gap": null,
            "max_width": null,
            "order": null,
            "_view_module_version": "1.2.0",
            "grid_template_areas": null,
            "object_position": null,
            "object_fit": null,
            "grid_auto_columns": null,
            "margin": null,
            "display": null,
            "left": null
          }
        },
        "ae7dc130f47b48b785665a8f7ab17e8e": {
          "model_module": "@jupyter-widgets/controls",
          "model_name": "HBoxModel",
          "state": {
            "_view_name": "HBoxView",
            "_dom_classes": [],
            "_model_name": "HBoxModel",
            "_view_module": "@jupyter-widgets/controls",
            "_model_module_version": "1.5.0",
            "_view_count": null,
            "_view_module_version": "1.5.0",
            "box_style": "",
            "layout": "IPY_MODEL_8c0e09eac2bd4aff8f1438396f55c09c",
            "_model_module": "@jupyter-widgets/controls",
            "children": [
              "IPY_MODEL_c2226fdba3074bf4bab8838b62a9ed51",
              "IPY_MODEL_5825dc66877541bdaba93517a3b1f87e"
            ]
          }
        },
        "8c0e09eac2bd4aff8f1438396f55c09c": {
          "model_module": "@jupyter-widgets/base",
          "model_name": "LayoutModel",
          "state": {
            "_view_name": "LayoutView",
            "grid_template_rows": null,
            "right": null,
            "justify_content": null,
            "_view_module": "@jupyter-widgets/base",
            "overflow": null,
            "_model_module_version": "1.2.0",
            "_view_count": null,
            "flex_flow": null,
            "width": null,
            "min_width": null,
            "border": null,
            "align_items": null,
            "bottom": null,
            "_model_module": "@jupyter-widgets/base",
            "top": null,
            "grid_column": null,
            "overflow_y": null,
            "overflow_x": null,
            "grid_auto_flow": null,
            "grid_area": null,
            "grid_template_columns": null,
            "flex": null,
            "_model_name": "LayoutModel",
            "justify_items": null,
            "grid_row": null,
            "max_height": null,
            "align_content": null,
            "visibility": null,
            "align_self": null,
            "height": null,
            "min_height": null,
            "padding": null,
            "grid_auto_rows": null,
            "grid_gap": null,
            "max_width": null,
            "order": null,
            "_view_module_version": "1.2.0",
            "grid_template_areas": null,
            "object_position": null,
            "object_fit": null,
            "grid_auto_columns": null,
            "margin": null,
            "display": null,
            "left": null
          }
        },
        "c2226fdba3074bf4bab8838b62a9ed51": {
          "model_module": "@jupyter-widgets/controls",
          "model_name": "FloatProgressModel",
          "state": {
            "_view_name": "ProgressView",
            "style": "IPY_MODEL_21aedaa2568446b480bb8f9da1e46d45",
            "_dom_classes": [],
            "description": "Downloading: 100%",
            "_model_name": "FloatProgressModel",
            "bar_style": "success",
            "max": 90903017,
            "_view_module": "@jupyter-widgets/controls",
            "_model_module_version": "1.5.0",
            "value": 90903017,
            "_view_count": null,
            "_view_module_version": "1.5.0",
            "orientation": "horizontal",
            "min": 0,
            "description_tooltip": null,
            "_model_module": "@jupyter-widgets/controls",
            "layout": "IPY_MODEL_d2a5251e07ff4415bf6a026fd0b565a9"
          }
        },
        "5825dc66877541bdaba93517a3b1f87e": {
          "model_module": "@jupyter-widgets/controls",
          "model_name": "HTMLModel",
          "state": {
            "_view_name": "HTMLView",
            "style": "IPY_MODEL_468ddb3d404e404081d845fc82a9a888",
            "_dom_classes": [],
            "description": "",
            "_model_name": "HTMLModel",
            "placeholder": "​",
            "_view_module": "@jupyter-widgets/controls",
            "_model_module_version": "1.5.0",
            "value": " 90.9M/90.9M [00:03&lt;00:00, 28.5MB/s]",
            "_view_count": null,
            "_view_module_version": "1.5.0",
            "description_tooltip": null,
            "_model_module": "@jupyter-widgets/controls",
            "layout": "IPY_MODEL_cdf5b4d5ed244454963d2833bc07dd7a"
          }
        },
        "21aedaa2568446b480bb8f9da1e46d45": {
          "model_module": "@jupyter-widgets/controls",
          "model_name": "ProgressStyleModel",
          "state": {
            "_view_name": "StyleView",
            "_model_name": "ProgressStyleModel",
            "description_width": "initial",
            "_view_module": "@jupyter-widgets/base",
            "_model_module_version": "1.5.0",
            "_view_count": null,
            "_view_module_version": "1.2.0",
            "bar_color": null,
            "_model_module": "@jupyter-widgets/controls"
          }
        },
        "d2a5251e07ff4415bf6a026fd0b565a9": {
          "model_module": "@jupyter-widgets/base",
          "model_name": "LayoutModel",
          "state": {
            "_view_name": "LayoutView",
            "grid_template_rows": null,
            "right": null,
            "justify_content": null,
            "_view_module": "@jupyter-widgets/base",
            "overflow": null,
            "_model_module_version": "1.2.0",
            "_view_count": null,
            "flex_flow": null,
            "width": null,
            "min_width": null,
            "border": null,
            "align_items": null,
            "bottom": null,
            "_model_module": "@jupyter-widgets/base",
            "top": null,
            "grid_column": null,
            "overflow_y": null,
            "overflow_x": null,
            "grid_auto_flow": null,
            "grid_area": null,
            "grid_template_columns": null,
            "flex": null,
            "_model_name": "LayoutModel",
            "justify_items": null,
            "grid_row": null,
            "max_height": null,
            "align_content": null,
            "visibility": null,
            "align_self": null,
            "height": null,
            "min_height": null,
            "padding": null,
            "grid_auto_rows": null,
            "grid_gap": null,
            "max_width": null,
            "order": null,
            "_view_module_version": "1.2.0",
            "grid_template_areas": null,
            "object_position": null,
            "object_fit": null,
            "grid_auto_columns": null,
            "margin": null,
            "display": null,
            "left": null
          }
        },
        "468ddb3d404e404081d845fc82a9a888": {
          "model_module": "@jupyter-widgets/controls",
          "model_name": "DescriptionStyleModel",
          "state": {
            "_view_name": "StyleView",
            "_model_name": "DescriptionStyleModel",
            "description_width": "",
            "_view_module": "@jupyter-widgets/base",
            "_model_module_version": "1.5.0",
            "_view_count": null,
            "_view_module_version": "1.2.0",
            "_model_module": "@jupyter-widgets/controls"
          }
        },
        "cdf5b4d5ed244454963d2833bc07dd7a": {
          "model_module": "@jupyter-widgets/base",
          "model_name": "LayoutModel",
          "state": {
            "_view_name": "LayoutView",
            "grid_template_rows": null,
            "right": null,
            "justify_content": null,
            "_view_module": "@jupyter-widgets/base",
            "overflow": null,
            "_model_module_version": "1.2.0",
            "_view_count": null,
            "flex_flow": null,
            "width": null,
            "min_width": null,
            "border": null,
            "align_items": null,
            "bottom": null,
            "_model_module": "@jupyter-widgets/base",
            "top": null,
            "grid_column": null,
            "overflow_y": null,
            "overflow_x": null,
            "grid_auto_flow": null,
            "grid_area": null,
            "grid_template_columns": null,
            "flex": null,
            "_model_name": "LayoutModel",
            "justify_items": null,
            "grid_row": null,
            "max_height": null,
            "align_content": null,
            "visibility": null,
            "align_self": null,
            "height": null,
            "min_height": null,
            "padding": null,
            "grid_auto_rows": null,
            "grid_gap": null,
            "max_width": null,
            "order": null,
            "_view_module_version": "1.2.0",
            "grid_template_areas": null,
            "object_position": null,
            "object_fit": null,
            "grid_auto_columns": null,
            "margin": null,
            "display": null,
            "left": null
          }
        },
        "9503f3e682d047e0adde9b593a9763e7": {
          "model_module": "@jupyter-widgets/controls",
          "model_name": "HBoxModel",
          "state": {
            "_view_name": "HBoxView",
            "_dom_classes": [],
            "_model_name": "HBoxModel",
            "_view_module": "@jupyter-widgets/controls",
            "_model_module_version": "1.5.0",
            "_view_count": null,
            "_view_module_version": "1.5.0",
            "box_style": "",
            "layout": "IPY_MODEL_fe1f6319cd1247f0bab2e11e50867205",
            "_model_module": "@jupyter-widgets/controls",
            "children": [
              "IPY_MODEL_2f6a4c96d77e465292e6dcd4fccd3b86",
              "IPY_MODEL_fe3b0a5f08c44d3e88dd8de522d3b622"
            ]
          }
        },
        "fe1f6319cd1247f0bab2e11e50867205": {
          "model_module": "@jupyter-widgets/base",
          "model_name": "LayoutModel",
          "state": {
            "_view_name": "LayoutView",
            "grid_template_rows": null,
            "right": null,
            "justify_content": null,
            "_view_module": "@jupyter-widgets/base",
            "overflow": null,
            "_model_module_version": "1.2.0",
            "_view_count": null,
            "flex_flow": null,
            "width": null,
            "min_width": null,
            "border": null,
            "align_items": null,
            "bottom": null,
            "_model_module": "@jupyter-widgets/base",
            "top": null,
            "grid_column": null,
            "overflow_y": null,
            "overflow_x": null,
            "grid_auto_flow": null,
            "grid_area": null,
            "grid_template_columns": null,
            "flex": null,
            "_model_name": "LayoutModel",
            "justify_items": null,
            "grid_row": null,
            "max_height": null,
            "align_content": null,
            "visibility": null,
            "align_self": null,
            "height": null,
            "min_height": null,
            "padding": null,
            "grid_auto_rows": null,
            "grid_gap": null,
            "max_width": null,
            "order": null,
            "_view_module_version": "1.2.0",
            "grid_template_areas": null,
            "object_position": null,
            "object_fit": null,
            "grid_auto_columns": null,
            "margin": null,
            "display": null,
            "left": null
          }
        },
        "2f6a4c96d77e465292e6dcd4fccd3b86": {
          "model_module": "@jupyter-widgets/controls",
          "model_name": "FloatProgressModel",
          "state": {
            "_view_name": "ProgressView",
            "style": "IPY_MODEL_aa34ac576a534c789a7f882797fcb4cb",
            "_dom_classes": [],
            "description": "Downloading: 100%",
            "_model_name": "FloatProgressModel",
            "bar_style": "success",
            "max": 231508,
            "_view_module": "@jupyter-widgets/controls",
            "_model_module_version": "1.5.0",
            "value": 231508,
            "_view_count": null,
            "_view_module_version": "1.5.0",
            "orientation": "horizontal",
            "min": 0,
            "description_tooltip": null,
            "_model_module": "@jupyter-widgets/controls",
            "layout": "IPY_MODEL_4c2585e710bd4f8795b34db7cc858003"
          }
        },
        "fe3b0a5f08c44d3e88dd8de522d3b622": {
          "model_module": "@jupyter-widgets/controls",
          "model_name": "HTMLModel",
          "state": {
            "_view_name": "HTMLView",
            "style": "IPY_MODEL_5b3bbfa9913641de91e559aa4dcc0c3a",
            "_dom_classes": [],
            "description": "",
            "_model_name": "HTMLModel",
            "placeholder": "​",
            "_view_module": "@jupyter-widgets/controls",
            "_model_module_version": "1.5.0",
            "value": " 232k/232k [00:01&lt;00:00, 131kB/s]",
            "_view_count": null,
            "_view_module_version": "1.5.0",
            "description_tooltip": null,
            "_model_module": "@jupyter-widgets/controls",
            "layout": "IPY_MODEL_51c47963b2e94e1a9916755221fc8878"
          }
        },
        "aa34ac576a534c789a7f882797fcb4cb": {
          "model_module": "@jupyter-widgets/controls",
          "model_name": "ProgressStyleModel",
          "state": {
            "_view_name": "StyleView",
            "_model_name": "ProgressStyleModel",
            "description_width": "initial",
            "_view_module": "@jupyter-widgets/base",
            "_model_module_version": "1.5.0",
            "_view_count": null,
            "_view_module_version": "1.2.0",
            "bar_color": null,
            "_model_module": "@jupyter-widgets/controls"
          }
        },
        "4c2585e710bd4f8795b34db7cc858003": {
          "model_module": "@jupyter-widgets/base",
          "model_name": "LayoutModel",
          "state": {
            "_view_name": "LayoutView",
            "grid_template_rows": null,
            "right": null,
            "justify_content": null,
            "_view_module": "@jupyter-widgets/base",
            "overflow": null,
            "_model_module_version": "1.2.0",
            "_view_count": null,
            "flex_flow": null,
            "width": null,
            "min_width": null,
            "border": null,
            "align_items": null,
            "bottom": null,
            "_model_module": "@jupyter-widgets/base",
            "top": null,
            "grid_column": null,
            "overflow_y": null,
            "overflow_x": null,
            "grid_auto_flow": null,
            "grid_area": null,
            "grid_template_columns": null,
            "flex": null,
            "_model_name": "LayoutModel",
            "justify_items": null,
            "grid_row": null,
            "max_height": null,
            "align_content": null,
            "visibility": null,
            "align_self": null,
            "height": null,
            "min_height": null,
            "padding": null,
            "grid_auto_rows": null,
            "grid_gap": null,
            "max_width": null,
            "order": null,
            "_view_module_version": "1.2.0",
            "grid_template_areas": null,
            "object_position": null,
            "object_fit": null,
            "grid_auto_columns": null,
            "margin": null,
            "display": null,
            "left": null
          }
        },
        "5b3bbfa9913641de91e559aa4dcc0c3a": {
          "model_module": "@jupyter-widgets/controls",
          "model_name": "DescriptionStyleModel",
          "state": {
            "_view_name": "StyleView",
            "_model_name": "DescriptionStyleModel",
            "description_width": "",
            "_view_module": "@jupyter-widgets/base",
            "_model_module_version": "1.5.0",
            "_view_count": null,
            "_view_module_version": "1.2.0",
            "_model_module": "@jupyter-widgets/controls"
          }
        },
        "51c47963b2e94e1a9916755221fc8878": {
          "model_module": "@jupyter-widgets/base",
          "model_name": "LayoutModel",
          "state": {
            "_view_name": "LayoutView",
            "grid_template_rows": null,
            "right": null,
            "justify_content": null,
            "_view_module": "@jupyter-widgets/base",
            "overflow": null,
            "_model_module_version": "1.2.0",
            "_view_count": null,
            "flex_flow": null,
            "width": null,
            "min_width": null,
            "border": null,
            "align_items": null,
            "bottom": null,
            "_model_module": "@jupyter-widgets/base",
            "top": null,
            "grid_column": null,
            "overflow_y": null,
            "overflow_x": null,
            "grid_auto_flow": null,
            "grid_area": null,
            "grid_template_columns": null,
            "flex": null,
            "_model_name": "LayoutModel",
            "justify_items": null,
            "grid_row": null,
            "max_height": null,
            "align_content": null,
            "visibility": null,
            "align_self": null,
            "height": null,
            "min_height": null,
            "padding": null,
            "grid_auto_rows": null,
            "grid_gap": null,
            "max_width": null,
            "order": null,
            "_view_module_version": "1.2.0",
            "grid_template_areas": null,
            "object_position": null,
            "object_fit": null,
            "grid_auto_columns": null,
            "margin": null,
            "display": null,
            "left": null
          }
        },
        "df9e10ef19994854bf531dbed4810bb8": {
          "model_module": "@jupyter-widgets/controls",
          "model_name": "HBoxModel",
          "state": {
            "_view_name": "HBoxView",
            "_dom_classes": [],
            "_model_name": "HBoxModel",
            "_view_module": "@jupyter-widgets/controls",
            "_model_module_version": "1.5.0",
            "_view_count": null,
            "_view_module_version": "1.5.0",
            "box_style": "",
            "layout": "IPY_MODEL_7c10935d645244cfac3eecf6d40e714a",
            "_model_module": "@jupyter-widgets/controls",
            "children": [
              "IPY_MODEL_15635e2c06324873ab699c497cba9c38",
              "IPY_MODEL_eaf1af43ec0045ab9f8c5be62fb75f04"
            ]
          }
        },
        "7c10935d645244cfac3eecf6d40e714a": {
          "model_module": "@jupyter-widgets/base",
          "model_name": "LayoutModel",
          "state": {
            "_view_name": "LayoutView",
            "grid_template_rows": null,
            "right": null,
            "justify_content": null,
            "_view_module": "@jupyter-widgets/base",
            "overflow": null,
            "_model_module_version": "1.2.0",
            "_view_count": null,
            "flex_flow": null,
            "width": null,
            "min_width": null,
            "border": null,
            "align_items": null,
            "bottom": null,
            "_model_module": "@jupyter-widgets/base",
            "top": null,
            "grid_column": null,
            "overflow_y": null,
            "overflow_x": null,
            "grid_auto_flow": null,
            "grid_area": null,
            "grid_template_columns": null,
            "flex": null,
            "_model_name": "LayoutModel",
            "justify_items": null,
            "grid_row": null,
            "max_height": null,
            "align_content": null,
            "visibility": null,
            "align_self": null,
            "height": null,
            "min_height": null,
            "padding": null,
            "grid_auto_rows": null,
            "grid_gap": null,
            "max_width": null,
            "order": null,
            "_view_module_version": "1.2.0",
            "grid_template_areas": null,
            "object_position": null,
            "object_fit": null,
            "grid_auto_columns": null,
            "margin": null,
            "display": null,
            "left": null
          }
        },
        "15635e2c06324873ab699c497cba9c38": {
          "model_module": "@jupyter-widgets/controls",
          "model_name": "FloatProgressModel",
          "state": {
            "_view_name": "ProgressView",
            "style": "IPY_MODEL_31520a363e7d4cde8b4e655fd3609a5a",
            "_dom_classes": [],
            "description": "Downloading: 100%",
            "_model_name": "FloatProgressModel",
            "bar_style": "success",
            "max": 112,
            "_view_module": "@jupyter-widgets/controls",
            "_model_module_version": "1.5.0",
            "value": 112,
            "_view_count": null,
            "_view_module_version": "1.5.0",
            "orientation": "horizontal",
            "min": 0,
            "description_tooltip": null,
            "_model_module": "@jupyter-widgets/controls",
            "layout": "IPY_MODEL_9319fe88e9164060837cdbfc0884fa65"
          }
        },
        "eaf1af43ec0045ab9f8c5be62fb75f04": {
          "model_module": "@jupyter-widgets/controls",
          "model_name": "HTMLModel",
          "state": {
            "_view_name": "HTMLView",
            "style": "IPY_MODEL_c72f21d5bd8247f69f87dd6fe8aa5017",
            "_dom_classes": [],
            "description": "",
            "_model_name": "HTMLModel",
            "placeholder": "​",
            "_view_module": "@jupyter-widgets/controls",
            "_model_module_version": "1.5.0",
            "value": " 112/112 [00:00&lt;00:00, 554B/s]",
            "_view_count": null,
            "_view_module_version": "1.5.0",
            "description_tooltip": null,
            "_model_module": "@jupyter-widgets/controls",
            "layout": "IPY_MODEL_938c46b3f0cd472197cd87debe99ee4c"
          }
        },
        "31520a363e7d4cde8b4e655fd3609a5a": {
          "model_module": "@jupyter-widgets/controls",
          "model_name": "ProgressStyleModel",
          "state": {
            "_view_name": "StyleView",
            "_model_name": "ProgressStyleModel",
            "description_width": "initial",
            "_view_module": "@jupyter-widgets/base",
            "_model_module_version": "1.5.0",
            "_view_count": null,
            "_view_module_version": "1.2.0",
            "bar_color": null,
            "_model_module": "@jupyter-widgets/controls"
          }
        },
        "9319fe88e9164060837cdbfc0884fa65": {
          "model_module": "@jupyter-widgets/base",
          "model_name": "LayoutModel",
          "state": {
            "_view_name": "LayoutView",
            "grid_template_rows": null,
            "right": null,
            "justify_content": null,
            "_view_module": "@jupyter-widgets/base",
            "overflow": null,
            "_model_module_version": "1.2.0",
            "_view_count": null,
            "flex_flow": null,
            "width": null,
            "min_width": null,
            "border": null,
            "align_items": null,
            "bottom": null,
            "_model_module": "@jupyter-widgets/base",
            "top": null,
            "grid_column": null,
            "overflow_y": null,
            "overflow_x": null,
            "grid_auto_flow": null,
            "grid_area": null,
            "grid_template_columns": null,
            "flex": null,
            "_model_name": "LayoutModel",
            "justify_items": null,
            "grid_row": null,
            "max_height": null,
            "align_content": null,
            "visibility": null,
            "align_self": null,
            "height": null,
            "min_height": null,
            "padding": null,
            "grid_auto_rows": null,
            "grid_gap": null,
            "max_width": null,
            "order": null,
            "_view_module_version": "1.2.0",
            "grid_template_areas": null,
            "object_position": null,
            "object_fit": null,
            "grid_auto_columns": null,
            "margin": null,
            "display": null,
            "left": null
          }
        },
        "c72f21d5bd8247f69f87dd6fe8aa5017": {
          "model_module": "@jupyter-widgets/controls",
          "model_name": "DescriptionStyleModel",
          "state": {
            "_view_name": "StyleView",
            "_model_name": "DescriptionStyleModel",
            "description_width": "",
            "_view_module": "@jupyter-widgets/base",
            "_model_module_version": "1.5.0",
            "_view_count": null,
            "_view_module_version": "1.2.0",
            "_model_module": "@jupyter-widgets/controls"
          }
        },
        "938c46b3f0cd472197cd87debe99ee4c": {
          "model_module": "@jupyter-widgets/base",
          "model_name": "LayoutModel",
          "state": {
            "_view_name": "LayoutView",
            "grid_template_rows": null,
            "right": null,
            "justify_content": null,
            "_view_module": "@jupyter-widgets/base",
            "overflow": null,
            "_model_module_version": "1.2.0",
            "_view_count": null,
            "flex_flow": null,
            "width": null,
            "min_width": null,
            "border": null,
            "align_items": null,
            "bottom": null,
            "_model_module": "@jupyter-widgets/base",
            "top": null,
            "grid_column": null,
            "overflow_y": null,
            "overflow_x": null,
            "grid_auto_flow": null,
            "grid_area": null,
            "grid_template_columns": null,
            "flex": null,
            "_model_name": "LayoutModel",
            "justify_items": null,
            "grid_row": null,
            "max_height": null,
            "align_content": null,
            "visibility": null,
            "align_self": null,
            "height": null,
            "min_height": null,
            "padding": null,
            "grid_auto_rows": null,
            "grid_gap": null,
            "max_width": null,
            "order": null,
            "_view_module_version": "1.2.0",
            "grid_template_areas": null,
            "object_position": null,
            "object_fit": null,
            "grid_auto_columns": null,
            "margin": null,
            "display": null,
            "left": null
          }
        },
        "6dcbef2f70a24f6c9798cb39ceec1499": {
          "model_module": "@jupyter-widgets/controls",
          "model_name": "HBoxModel",
          "state": {
            "_view_name": "HBoxView",
            "_dom_classes": [],
            "_model_name": "HBoxModel",
            "_view_module": "@jupyter-widgets/controls",
            "_model_module_version": "1.5.0",
            "_view_count": null,
            "_view_module_version": "1.5.0",
            "box_style": "",
            "layout": "IPY_MODEL_b12f79704e1a438ebd3e9da1956f16bc",
            "_model_module": "@jupyter-widgets/controls",
            "children": [
              "IPY_MODEL_bf46e897ada44da38c5d8aeab6cd62c8",
              "IPY_MODEL_040cb4c91b94401d98431ca98dff833f"
            ]
          }
        },
        "b12f79704e1a438ebd3e9da1956f16bc": {
          "model_module": "@jupyter-widgets/base",
          "model_name": "LayoutModel",
          "state": {
            "_view_name": "LayoutView",
            "grid_template_rows": null,
            "right": null,
            "justify_content": null,
            "_view_module": "@jupyter-widgets/base",
            "overflow": null,
            "_model_module_version": "1.2.0",
            "_view_count": null,
            "flex_flow": null,
            "width": null,
            "min_width": null,
            "border": null,
            "align_items": null,
            "bottom": null,
            "_model_module": "@jupyter-widgets/base",
            "top": null,
            "grid_column": null,
            "overflow_y": null,
            "overflow_x": null,
            "grid_auto_flow": null,
            "grid_area": null,
            "grid_template_columns": null,
            "flex": null,
            "_model_name": "LayoutModel",
            "justify_items": null,
            "grid_row": null,
            "max_height": null,
            "align_content": null,
            "visibility": null,
            "align_self": null,
            "height": null,
            "min_height": null,
            "padding": null,
            "grid_auto_rows": null,
            "grid_gap": null,
            "max_width": null,
            "order": null,
            "_view_module_version": "1.2.0",
            "grid_template_areas": null,
            "object_position": null,
            "object_fit": null,
            "grid_auto_columns": null,
            "margin": null,
            "display": null,
            "left": null
          }
        },
        "bf46e897ada44da38c5d8aeab6cd62c8": {
          "model_module": "@jupyter-widgets/controls",
          "model_name": "FloatProgressModel",
          "state": {
            "_view_name": "ProgressView",
            "style": "IPY_MODEL_14900732ac0748a3b66d42066488152c",
            "_dom_classes": [],
            "description": "Downloading: 100%",
            "_model_name": "FloatProgressModel",
            "bar_style": "success",
            "max": 316,
            "_view_module": "@jupyter-widgets/controls",
            "_model_module_version": "1.5.0",
            "value": 316,
            "_view_count": null,
            "_view_module_version": "1.5.0",
            "orientation": "horizontal",
            "min": 0,
            "description_tooltip": null,
            "_model_module": "@jupyter-widgets/controls",
            "layout": "IPY_MODEL_6313200e9f16479bafed73463306c63e"
          }
        },
        "040cb4c91b94401d98431ca98dff833f": {
          "model_module": "@jupyter-widgets/controls",
          "model_name": "HTMLModel",
          "state": {
            "_view_name": "HTMLView",
            "style": "IPY_MODEL_7263d4ca27044c8a897ca605183a2549",
            "_dom_classes": [],
            "description": "",
            "_model_name": "HTMLModel",
            "placeholder": "​",
            "_view_module": "@jupyter-widgets/controls",
            "_model_module_version": "1.5.0",
            "value": " 316/316 [00:00&lt;00:00, 5.08kB/s]",
            "_view_count": null,
            "_view_module_version": "1.5.0",
            "description_tooltip": null,
            "_model_module": "@jupyter-widgets/controls",
            "layout": "IPY_MODEL_17c3be63e503406cbd0293489a356343"
          }
        },
        "14900732ac0748a3b66d42066488152c": {
          "model_module": "@jupyter-widgets/controls",
          "model_name": "ProgressStyleModel",
          "state": {
            "_view_name": "StyleView",
            "_model_name": "ProgressStyleModel",
            "description_width": "initial",
            "_view_module": "@jupyter-widgets/base",
            "_model_module_version": "1.5.0",
            "_view_count": null,
            "_view_module_version": "1.2.0",
            "bar_color": null,
            "_model_module": "@jupyter-widgets/controls"
          }
        },
        "6313200e9f16479bafed73463306c63e": {
          "model_module": "@jupyter-widgets/base",
          "model_name": "LayoutModel",
          "state": {
            "_view_name": "LayoutView",
            "grid_template_rows": null,
            "right": null,
            "justify_content": null,
            "_view_module": "@jupyter-widgets/base",
            "overflow": null,
            "_model_module_version": "1.2.0",
            "_view_count": null,
            "flex_flow": null,
            "width": null,
            "min_width": null,
            "border": null,
            "align_items": null,
            "bottom": null,
            "_model_module": "@jupyter-widgets/base",
            "top": null,
            "grid_column": null,
            "overflow_y": null,
            "overflow_x": null,
            "grid_auto_flow": null,
            "grid_area": null,
            "grid_template_columns": null,
            "flex": null,
            "_model_name": "LayoutModel",
            "justify_items": null,
            "grid_row": null,
            "max_height": null,
            "align_content": null,
            "visibility": null,
            "align_self": null,
            "height": null,
            "min_height": null,
            "padding": null,
            "grid_auto_rows": null,
            "grid_gap": null,
            "max_width": null,
            "order": null,
            "_view_module_version": "1.2.0",
            "grid_template_areas": null,
            "object_position": null,
            "object_fit": null,
            "grid_auto_columns": null,
            "margin": null,
            "display": null,
            "left": null
          }
        },
        "7263d4ca27044c8a897ca605183a2549": {
          "model_module": "@jupyter-widgets/controls",
          "model_name": "DescriptionStyleModel",
          "state": {
            "_view_name": "StyleView",
            "_model_name": "DescriptionStyleModel",
            "description_width": "",
            "_view_module": "@jupyter-widgets/base",
            "_model_module_version": "1.5.0",
            "_view_count": null,
            "_view_module_version": "1.2.0",
            "_model_module": "@jupyter-widgets/controls"
          }
        },
        "17c3be63e503406cbd0293489a356343": {
          "model_module": "@jupyter-widgets/base",
          "model_name": "LayoutModel",
          "state": {
            "_view_name": "LayoutView",
            "grid_template_rows": null,
            "right": null,
            "justify_content": null,
            "_view_module": "@jupyter-widgets/base",
            "overflow": null,
            "_model_module_version": "1.2.0",
            "_view_count": null,
            "flex_flow": null,
            "width": null,
            "min_width": null,
            "border": null,
            "align_items": null,
            "bottom": null,
            "_model_module": "@jupyter-widgets/base",
            "top": null,
            "grid_column": null,
            "overflow_y": null,
            "overflow_x": null,
            "grid_auto_flow": null,
            "grid_area": null,
            "grid_template_columns": null,
            "flex": null,
            "_model_name": "LayoutModel",
            "justify_items": null,
            "grid_row": null,
            "max_height": null,
            "align_content": null,
            "visibility": null,
            "align_self": null,
            "height": null,
            "min_height": null,
            "padding": null,
            "grid_auto_rows": null,
            "grid_gap": null,
            "max_width": null,
            "order": null,
            "_view_module_version": "1.2.0",
            "grid_template_areas": null,
            "object_position": null,
            "object_fit": null,
            "grid_auto_columns": null,
            "margin": null,
            "display": null,
            "left": null
          }
        }
      }
    },
    "accelerator": "GPU"
  },
  "cells": [
    {
      "cell_type": "markdown",
      "metadata": {
        "id": "ai43IMHM65sk"
      },
      "source": [
        "# **COVID-19-BERT-ResearchPapers-Semantic-Search**\n",
        "\n",
        "This notebook will let us build a faster and accurate **CORD Search Engine** using Transformers - on top of the research articles provided as part of [Kaggle's competion CORD-19-research-challenge](https://www.kaggle.com/allen-institute-for-ai/CORD-19-research-challenge). We would like to thank kaggle and all of the competion sponsers for this competion in bringing up efforts for fighting this virus.\n",
        "\n",
        "In this notebook, we will: \n",
        "1.   First we sample 150000 documents from the cord dataset and structure them into `pandas.DataFrame for the ease of use. The preprocessed data can be found [here](https://drive.google.com/file/d/1zfmSzKA8riVF23nXlBp2lb_rpq21RSoE/view?usp=sharing).\n",
        "2.   We used *'Retrieve & Re-Rank'* to find the relevant documents for a query.  \n",
        "3.   Then we used *Longformer* model trained on squad to find the answer to the query.\n",
        "\n",
        "**References** :\n",
        "\n",
        "*   We used the library provided by [UKPLab](https://github.com/UKPLab) called [sentence-transformers](https://github.com/UKPLab/sentence-transformers) for this project. This library provides an easy method to compute dense vector representations for sentences, paragraphs, images and also has a lots of pretrained models.\n",
        "\n",
        "*   Also used Huggingface 🤗 model hub for pretrained models."
      ]
    },
    {
      "cell_type": "markdown",
      "metadata": {
        "id": "O4mLbBEXP8ML"
      },
      "source": [
        "## **Architecture**\n",
        "\n"
      ]
    },
    {
      "cell_type": "markdown",
      "metadata": {
        "id": "xm7NJUSMe9AB"
      },
      "source": [
        "We will follow an structure similar to **Open-domain Question Answering (ODQA)**  for this setup. \n",
        "\n",
        "It has 3 Major Components\n",
        "\n",
        "\n",
        "**Retriever**: Fast, simple algorithm that identifies suitable candidate  from a large collection of documents. We have an asymmetric semantic search setup, where we have a short query and want to find a longer paragraph relevant to the query. We use DistilBert train on  MSMARCO Passage Ranking dataset for this purpose.\n",
        "\n",
        "\n",
        "**Re-Ranker**: The retriever usually returns lots of candidate document to be efficient for a large collection. However, it might return irrelevant candidates. A re-ranker based on a Cross-Encoder substantially improve the final results for the user. The query and a possible document is passed simultaneously to transformer network, which then outputs a single score between 0 and 1 indicating how relevant the document is for the given query. \n",
        "\n",
        "\n",
        "\n",
        "**Reader**: Powerful neural model that reads through texts in detail to find an answer. The Reader takes set of reranked documents as input and returns top-n answers with corresponding confidence scores. Since we are dealing with large documents, *Longformer* trained on [SQuAD](https://rajpurkar.github.io/SQuAD-explorer/) dataset is our pick for the task. It is also fine-tuned on [Covid_QA](https://github.com/deepset-ai/COVID-QA) dataset and can be downloaded from [link](https://huggingface.co/abhijithneilabraham/longformer_covid_qa).\n",
        "\n",
        "\n",
        "\n",
        "\n",
        "\n",
        "![architecture.png](data:image/png;base64,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)\n",
        "\n"
      ]
    },
    {
      "cell_type": "code",
      "metadata": {
        "id": "SZ8uJB6olbpq",
        "colab": {
          "base_uri": "https://localhost:8080/"
        },
        "outputId": "9f19c273-df2a-4928-ba24-82903b53c635"
      },
      "source": [
        "from google.colab import drive\n",
        "drive.mount('/content/drive')"
      ],
      "execution_count": null,
      "outputs": [
        {
          "output_type": "stream",
          "text": [
            "Mounted at /content/drive\n"
          ],
          "name": "stdout"
        }
      ]
    },
    {
      "cell_type": "code",
      "metadata": {
        "id": "eRQx_y6N2CTI"
      },
      "source": [
        "# installing sentence transformer \n",
        "\n",
        "!pip install -U sentence-transformers"
      ],
      "execution_count": null,
      "outputs": []
    },
    {
      "cell_type": "code",
      "metadata": {
        "colab": {
          "base_uri": "https://localhost:8080/"
        },
        "id": "JlZgP8q1A6NW",
        "outputId": "6258402b-f00c-488c-fe4c-dc25a18fe09c"
      },
      "source": [
        "# running on gpu\n",
        "import torch\n",
        "if torch.cuda.is_available():\n",
        "  device = torch.device('cuda:0')\n",
        "  print('gpu')\n",
        "torch.cuda.get_device_properties(0)"
      ],
      "execution_count": null,
      "outputs": [
        {
          "output_type": "stream",
          "text": [
            "gpu\n"
          ],
          "name": "stdout"
        },
        {
          "output_type": "execute_result",
          "data": {
            "text/plain": [
              "_CudaDeviceProperties(name='Tesla P100-PCIE-16GB', major=6, minor=0, total_memory=16280MB, multi_processor_count=56)"
            ]
          },
          "metadata": {
            "tags": []
          },
          "execution_count": 3
        }
      ]
    },
    {
      "cell_type": "code",
      "metadata": {
        "id": "1rTVIbY61eli"
      },
      "source": [
        "# importing required libraries\n",
        "\n",
        "'''import json\n",
        "import time\n",
        "import gzip\n",
        "import os'''\n",
        "\n",
        "import torch\n",
        "import warnings\n",
        "import textwrap\n",
        "import numpy as np\n",
        "import pandas as pd\n",
        "from sentence_transformers import SentenceTransformer, CrossEncoder, util"
      ],
      "execution_count": null,
      "outputs": []
    },
    {
      "cell_type": "code",
      "metadata": {
        "id": "bRmTCz5E5IF5"
      },
      "source": [
        "warnings.filterwarnings(\"ignore\")\n",
        "wrapper = textwrap.TextWrapper(width = 200)"
      ],
      "execution_count": null,
      "outputs": []
    },
    {
      "cell_type": "code",
      "metadata": {
        "id": "iJZfticDQdoQ",
        "colab": {
          "base_uri": "https://localhost:8080/",
          "height": 419
        },
        "outputId": "b73d568c-9be8-4d3b-88bb-9334a0725287"
      },
      "source": [
        "# importing the csv from drive\n",
        "\n",
        "cord_df= pd.read_csv('/content/drive/MyDrive/Colab Notebooks/cord_data.csv')\n",
        "cord_df"
      ],
      "execution_count": null,
      "outputs": [
        {
          "output_type": "execute_result",
          "data": {
            "text/html": [
              "<div>\n",
              "<style scoped>\n",
              "    .dataframe tbody tr th:only-of-type {\n",
              "        vertical-align: middle;\n",
              "    }\n",
              "\n",
              "    .dataframe tbody tr th {\n",
              "        vertical-align: top;\n",
              "    }\n",
              "\n",
              "    .dataframe thead th {\n",
              "        text-align: right;\n",
              "    }\n",
              "</style>\n",
              "<table border=\"1\" class=\"dataframe\">\n",
              "  <thead>\n",
              "    <tr style=\"text-align: right;\">\n",
              "      <th></th>\n",
              "      <th>paper_id</th>\n",
              "      <th>title</th>\n",
              "      <th>abstract</th>\n",
              "      <th>full_text</th>\n",
              "    </tr>\n",
              "  </thead>\n",
              "  <tbody>\n",
              "    <tr>\n",
              "      <th>0</th>\n",
              "      <td>7802613</td>\n",
              "      <td>Advances in 3D neuronal microphysiological sys...</td>\n",
              "      <td>NaN</td>\n",
              "      <td>Microphysiological systems MPS designed to stu...</td>\n",
              "    </tr>\n",
              "    <tr>\n",
              "      <th>1</th>\n",
              "      <td>7523559</td>\n",
              "      <td>Primary healthcare policy and vision for commu...</td>\n",
              "      <td>NaN</td>\n",
              "      <td>Primary care in the US is delivered by three m...</td>\n",
              "    </tr>\n",
              "    <tr>\n",
              "      <th>2</th>\n",
              "      <td>7347899</td>\n",
              "      <td>SARS-COV-2 Infection and Kawasaki Disease: Cas...</td>\n",
              "      <td>NaN</td>\n",
              "      <td>Covid19 infection is currently the most import...</td>\n",
              "    </tr>\n",
              "    <tr>\n",
              "      <th>3</th>\n",
              "      <td>7553566</td>\n",
              "      <td>Unintended consequences of COVID-19 safety mea...</td>\n",
              "      <td>NaN</td>\n",
              "      <td>The first case infected with the novel coronav...</td>\n",
              "    </tr>\n",
              "    <tr>\n",
              "      <th>4</th>\n",
              "      <td>7120939</td>\n",
              "      <td>Epiglottitis, Acute Laryngitis, and Croup</td>\n",
              "      <td>NaN</td>\n",
              "      <td>Epiglottitis, acute laryngitis, and croup are ...</td>\n",
              "    </tr>\n",
              "    <tr>\n",
              "      <th>...</th>\n",
              "      <td>...</td>\n",
              "      <td>...</td>\n",
              "      <td>...</td>\n",
              "      <td>...</td>\n",
              "    </tr>\n",
              "    <tr>\n",
              "      <th>149994</th>\n",
              "      <td>c8b8c00</td>\n",
              "      <td>A Mathematical Model of Coronavirus Disease (C...</td>\n",
              "      <td>The research work in this paper attempts to de...</td>\n",
              "      <td>A mathematical model is a description of the w...</td>\n",
              "    </tr>\n",
              "    <tr>\n",
              "      <th>149995</th>\n",
              "      <td>2de2047</td>\n",
              "      <td>The effect of environmental diesel exhaust pol...</td>\n",
              "      <td>Diesel exhaust particles (DEP) are the major c...</td>\n",
              "      <td>Coronavirus disease 2019 is an acute pulmonary...</td>\n",
              "    </tr>\n",
              "    <tr>\n",
              "      <th>149996</th>\n",
              "      <td>b4fa05e</td>\n",
              "      <td>Abdominopelvic CT findings in patients with no...</td>\n",
              "      <td>Purpose Some patients with novel coronavirus d...</td>\n",
              "      <td>The novel coronavirus disease 2019 COVID2019 p...</td>\n",
              "    </tr>\n",
              "    <tr>\n",
              "      <th>149997</th>\n",
              "      <td>2525235</td>\n",
              "      <td>Expected and Unexpected Features of the Newly ...</td>\n",
              "      <td>Influenza A viruses (IAVs) are important zoono...</td>\n",
              "      <td>Influenza A viruses IAVs are important zoonoti...</td>\n",
              "    </tr>\n",
              "    <tr>\n",
              "      <th>149998</th>\n",
              "      <td>4efd238</td>\n",
              "      <td>OBSERVATION: BRIEF RESEARCH REPORT Preterm Bir...</td>\n",
              "      <td>NaN</td>\n",
              "      <td>Background A recent Danish study reported that...</td>\n",
              "    </tr>\n",
              "  </tbody>\n",
              "</table>\n",
              "<p>149999 rows × 4 columns</p>\n",
              "</div>"
            ],
            "text/plain": [
              "       paper_id  ...                                          full_text\n",
              "0       7802613  ...  Microphysiological systems MPS designed to stu...\n",
              "1       7523559  ...  Primary care in the US is delivered by three m...\n",
              "2       7347899  ...  Covid19 infection is currently the most import...\n",
              "3       7553566  ...  The first case infected with the novel coronav...\n",
              "4       7120939  ...  Epiglottitis, acute laryngitis, and croup are ...\n",
              "...         ...  ...                                                ...\n",
              "149994  c8b8c00  ...  A mathematical model is a description of the w...\n",
              "149995  2de2047  ...  Coronavirus disease 2019 is an acute pulmonary...\n",
              "149996  b4fa05e  ...  The novel coronavirus disease 2019 COVID2019 p...\n",
              "149997  2525235  ...  Influenza A viruses IAVs are important zoonoti...\n",
              "149998  4efd238  ...  Background A recent Danish study reported that...\n",
              "\n",
              "[149999 rows x 4 columns]"
            ]
          },
          "metadata": {
            "tags": []
          },
          "execution_count": 6
        }
      ]
    },
    {
      "cell_type": "code",
      "metadata": {
        "id": "qqfQkWmm7sGp"
      },
      "source": [
        "cord_df['length'] = cord_df['full_text'].apply(lambda x: len(x.split()))"
      ],
      "execution_count": null,
      "outputs": []
    },
    {
      "cell_type": "code",
      "metadata": {
        "colab": {
          "base_uri": "https://localhost:8080/",
          "height": 296
        },
        "id": "7gj90UyK8_8e",
        "outputId": "aa37c04e-1bda-4405-cd7e-8d0136d2bcec"
      },
      "source": [
        "# Distribution of document length. \n",
        "import seaborn as sns\n",
        "ax = sns.distplot(cord_df['length'])\n",
        "ax.set_xlim(0, 15000)"
      ],
      "execution_count": null,
      "outputs": [
        {
          "output_type": "execute_result",
          "data": {
            "text/plain": [
              "(0.0, 15000.0)"
            ]
          },
          "metadata": {
            "tags": []
          },
          "execution_count": 20
        },
        {
          "output_type": "display_data",
          "data": {
            "image/png": "[encoded data removed]",
            "text/plain": [
              "<Figure size 432x288 with 1 Axes>"
            ]
          },
          "metadata": {
            "tags": [],
            "needs_background": "light"
          }
        }
      ]
    },
    {
      "cell_type": "markdown",
      "metadata": {
        "id": "JNMgz2na51J_"
      },
      "source": [
        "As evident from the plot, we are usually dealing with documents having words greater than 1000. So will use Longformer for extracting the answer from the text. We are using a pretrained model from Huggingface model hub."
      ]
    },
    {
      "cell_type": "code",
      "metadata": {
        "id": "PldJYGQ92Xmg",
        "colab": {
          "base_uri": "https://localhost:8080/"
        },
        "outputId": "bb32dbbc-340f-41d7-8a17-92a29c4d5ff7"
      },
      "source": [
        "# creating a corpus of document text\n",
        "corpus = cord_df['full_text'].tolist()\n",
        "len(corpus)"
      ],
      "execution_count": null,
      "outputs": [
        {
          "output_type": "execute_result",
          "data": {
            "text/plain": [
              "149999"
            ]
          },
          "metadata": {
            "tags": []
          },
          "execution_count": 7
        }
      ]
    },
    {
      "cell_type": "markdown",
      "metadata": {
        "id": "ZZXe9NIjtxM3"
      },
      "source": [
        "**Retrieve Rerank Answer**"
      ]
    },
    {
      "cell_type": "markdown",
      "metadata": {
        "id": "X55RQKPU68KN"
      },
      "source": [
        "We will use DistilBERT trained on MSMARCO dataset to embed all the documents into a dense representaion. The same model will be used to encode the query and will be compared with the dense vectors to retrieve the most suitable document sets.\n",
        "\n",
        "\n",
        "![alt text](https://raw.githubusercontent.com/UKPLab/sentence-transformers/master/docs/img/SemanticSearch.png)\n"
      ]
    },
    {
      "cell_type": "code",
      "metadata": {
        "id": "HxHT6ugk7MGD",
        "colab": {
          "base_uri": "https://localhost:8080/",
          "height": 115,
          "referenced_widgets": [
            "ae99fa2b2ae642efb86e10d437287f68",
            "b5239be17b444c81ab4b572060700048",
            "41381137d6c94da8868cf696085ccccc",
            "9206b915c0f4485a9fad6ae8f1f1395b",
            "c5917af061544049964f5009ce54e522",
            "0b4ad5313a254806b7d659f119fc0cc6",
            "2d68ed395c2a466dbc3ec522415d25d1",
            "12bc55d508e84f0d97020d244e03ea2d",
            "e613c4a3d5f44e73914ba220e780537a",
            "39f5e6bd574a41b0a4e0288df27e623a",
            "be32a7ae3eb04fe3b13fe0823825391e",
            "99c3809e9d734d68b11eb8c50da4e424",
            "4652edb6e03b44048a231f9d9ed23cdd",
            "3299f0403cea4db5b8796091f5c26b6f",
            "dbe951f518ae41d99f69edb34fc6c122",
            "c99af38bb57f41fd9bcc2cd0d2db64e2"
          ]
        },
        "outputId": "5067001f-a2be-468e-866b-7e51ed7daa2d"
      },
      "source": [
        "model_name = 'msmarco-distilbert-base-v3'\n",
        "bi_encoder = SentenceTransformer(model_name)\n",
        "\n",
        "# encoding documents\n",
        "corpus_embeddings = bi_encoder.encode(corpus, convert_to_tensor=True, show_progress_bar=True) "
      ],
      "execution_count": null,
      "outputs": [
        {
          "output_type": "display_data",
          "data": {
            "application/vnd.jupyter.widget-view+json": {
              "model_id": "ae99fa2b2ae642efb86e10d437287f68",
              "version_minor": 0,
              "version_major": 2
            },
            "text/plain": [
              "HBox(children=(FloatProgress(value=0.0, max=244721538.0), HTML(value='')))"
            ]
          },
          "metadata": {
            "tags": []
          }
        },
        {
          "output_type": "stream",
          "text": [
            "\n"
          ],
          "name": "stdout"
        },
        {
          "output_type": "display_data",
          "data": {
            "application/vnd.jupyter.widget-view+json": {
              "model_id": "e613c4a3d5f44e73914ba220e780537a",
              "version_minor": 0,
              "version_major": 2
            },
            "text/plain": [
              "HBox(children=(FloatProgress(value=0.0, description='Batches', max=4688.0, style=ProgressStyle(description_wid…"
            ]
          },
          "metadata": {
            "tags": []
          }
        },
        {
          "output_type": "stream",
          "text": [
            "\n"
          ],
          "name": "stdout"
        }
      ]
    },
    {
      "cell_type": "markdown",
      "metadata": {
        "id": "jjX6ioP3-on2"
      },
      "source": [
        "\n",
        "We use a cross-encoder also trained on MSMARCO Passage Ranking, to re-rank the  list of documents provided by the retriever to improve the quality of the result. This two stage retrieval system is better suited for large document collection.\n"
      ]
    },
    {
      "cell_type": "code",
      "metadata": {
        "id": "HKwbXC3P-qpu",
        "colab": {
          "base_uri": "https://localhost:8080/",
          "height": 262,
          "referenced_widgets": [
            "26a90edaa8e54bca822e5360408ee547",
            "c7310bf364cc43b9b81259bc434f065b",
            "804e1bf452a5456faf3b22ac89314c7b",
            "e6832d95ab034354a38586192aae06b6",
            "74111f0c49a544be87ecc463edf7c0fa",
            "d18c3a7c22534fc490deb0202a971180",
            "84c4417a6f294d2ab664f73e67965da9",
            "634344214edf4f0894cea8f25ee95a42",
            "ae7dc130f47b48b785665a8f7ab17e8e",
            "8c0e09eac2bd4aff8f1438396f55c09c",
            "c2226fdba3074bf4bab8838b62a9ed51",
            "5825dc66877541bdaba93517a3b1f87e",
            "21aedaa2568446b480bb8f9da1e46d45",
            "d2a5251e07ff4415bf6a026fd0b565a9",
            "468ddb3d404e404081d845fc82a9a888",
            "cdf5b4d5ed244454963d2833bc07dd7a",
            "9503f3e682d047e0adde9b593a9763e7",
            "fe1f6319cd1247f0bab2e11e50867205",
            "2f6a4c96d77e465292e6dcd4fccd3b86",
            "fe3b0a5f08c44d3e88dd8de522d3b622",
            "aa34ac576a534c789a7f882797fcb4cb",
            "4c2585e710bd4f8795b34db7cc858003",
            "5b3bbfa9913641de91e559aa4dcc0c3a",
            "51c47963b2e94e1a9916755221fc8878",
            "df9e10ef19994854bf531dbed4810bb8",
            "7c10935d645244cfac3eecf6d40e714a",
            "15635e2c06324873ab699c497cba9c38",
            "eaf1af43ec0045ab9f8c5be62fb75f04",
            "31520a363e7d4cde8b4e655fd3609a5a",
            "9319fe88e9164060837cdbfc0884fa65",
            "c72f21d5bd8247f69f87dd6fe8aa5017",
            "938c46b3f0cd472197cd87debe99ee4c",
            "6dcbef2f70a24f6c9798cb39ceec1499",
            "b12f79704e1a438ebd3e9da1956f16bc",
            "bf46e897ada44da38c5d8aeab6cd62c8",
            "040cb4c91b94401d98431ca98dff833f",
            "14900732ac0748a3b66d42066488152c",
            "6313200e9f16479bafed73463306c63e",
            "7263d4ca27044c8a897ca605183a2549",
            "17c3be63e503406cbd0293489a356343"
          ]
        },
        "outputId": "8fb3076f-2b6b-4b64-bbea-d97adb5e6d45"
      },
      "source": [
        "# using pretrained cross-encoder from sentence-transformer library\n",
        "cross_encoder = CrossEncoder('cross-encoder/ms-marco-MiniLM-L-6-v2')"
      ],
      "execution_count": null,
      "outputs": [
        {
          "output_type": "display_data",
          "data": {
            "application/vnd.jupyter.widget-view+json": {
              "model_id": "26a90edaa8e54bca822e5360408ee547",
              "version_minor": 0,
              "version_major": 2
            },
            "text/plain": [
              "HBox(children=(FloatProgress(value=0.0, description='Downloading', max=794.0, style=ProgressStyle(description_…"
            ]
          },
          "metadata": {
            "tags": []
          }
        },
        {
          "output_type": "stream",
          "text": [
            "\n"
          ],
          "name": "stdout"
        },
        {
          "output_type": "display_data",
          "data": {
            "application/vnd.jupyter.widget-view+json": {
              "model_id": "ae7dc130f47b48b785665a8f7ab17e8e",
              "version_minor": 0,
              "version_major": 2
            },
            "text/plain": [
              "HBox(children=(FloatProgress(value=0.0, description='Downloading', max=90903017.0, style=ProgressStyle(descrip…"
            ]
          },
          "metadata": {
            "tags": []
          }
        },
        {
          "output_type": "stream",
          "text": [
            "\n"
          ],
          "name": "stdout"
        },
        {
          "output_type": "display_data",
          "data": {
            "application/vnd.jupyter.widget-view+json": {
              "model_id": "9503f3e682d047e0adde9b593a9763e7",
              "version_minor": 0,
              "version_major": 2
            },
            "text/plain": [
              "HBox(children=(FloatProgress(value=0.0, description='Downloading', max=231508.0, style=ProgressStyle(descripti…"
            ]
          },
          "metadata": {
            "tags": []
          }
        },
        {
          "output_type": "stream",
          "text": [
            "\n"
          ],
          "name": "stdout"
        },
        {
          "output_type": "display_data",
          "data": {
            "application/vnd.jupyter.widget-view+json": {
              "model_id": "df9e10ef19994854bf531dbed4810bb8",
              "version_minor": 0,
              "version_major": 2
            },
            "text/plain": [
              "HBox(children=(FloatProgress(value=0.0, description='Downloading', max=112.0, style=ProgressStyle(description_…"
            ]
          },
          "metadata": {
            "tags": []
          }
        },
        {
          "output_type": "stream",
          "text": [
            "\n"
          ],
          "name": "stdout"
        },
        {
          "output_type": "display_data",
          "data": {
            "application/vnd.jupyter.widget-view+json": {
              "model_id": "6dcbef2f70a24f6c9798cb39ceec1499",
              "version_minor": 0,
              "version_major": 2
            },
            "text/plain": [
              "HBox(children=(FloatProgress(value=0.0, description='Downloading', max=316.0, style=ProgressStyle(description_…"
            ]
          },
          "metadata": {
            "tags": []
          }
        },
        {
          "output_type": "stream",
          "text": [
            "\n"
          ],
          "name": "stdout"
        }
      ]
    },
    {
      "cell_type": "code",
      "metadata": {
        "id": "yZf7eQdqpZAJ"
      },
      "source": [
        "# using pretrained longformer\n",
        "\n",
        "import torch\n",
        "from transformers import AutoTokenizer, AutoModelForQuestionAnswering\n",
        "\n",
        "tokenizer = AutoTokenizer.from_pretrained(\"abhijithneilabraham/longformer_covid_qa\", )\n",
        "model = AutoModelForQuestionAnswering.from_pretrained(\"abhijithneilabraham/longformer_covid_qa\",)\n",
        "model.to(device)"
      ],
      "execution_count": null,
      "outputs": []
    },
    {
      "cell_type": "code",
      "metadata": {
        "id": "UTnp9YzcqAEI"
      },
      "source": [
        "# method to find answer from a text\n",
        "\n",
        "def find_answer(question, text):\n",
        "\n",
        "  '''longformer usually quite resource hungry. So clearing gpu cache is a good idea. '''\n",
        "  for i in range(0, 5):\n",
        "    torch.cuda.empty_cache()\n",
        "\n",
        "  answer = 0\n",
        "  model.eval()\n",
        "  with torch.no_grad():\n",
        "    encoding = tokenizer(question, text, return_tensors=\"pt\", max_length= 4096, truncation=True) \n",
        "    input_ids = encoding[\"input_ids\"]\n",
        "\n",
        "    # default is local attention everywhere\n",
        "    # the forward method will automatically set global attention on question tokens\n",
        "    attention_mask = encoding[\"attention_mask\"]\n",
        "\n",
        "    outputs = model(input_ids.cuda(), attention_mask=attention_mask.cuda())\n",
        "    start_logits = outputs.start_logits\n",
        "    end_logits = outputs.end_logits\n",
        "    all_tokens = tokenizer.convert_ids_to_tokens(input_ids[0].tolist())\n",
        "\n",
        "\n",
        "    answer_tokens = all_tokens[torch.argmax(start_logits) :torch.argmax(end_logits)+1]\n",
        "    answer = tokenizer.decode(tokenizer.convert_tokens_to_ids(answer_tokens))\n",
        "    if answer in tokenizer.all_special_tokens or answer== ' ' or '</s>' in answer or len(answer.split()) > 100:\n",
        "      answer = ''\n",
        "  return answer"
      ],
      "execution_count": null,
      "outputs": []
    },
    {
      "cell_type": "code",
      "metadata": {
        "id": "J4MoF6Un7MDe"
      },
      "source": [
        "# Method to search\n",
        "# top-k : Number of passages we want to retrieve with the bi-encoder\n",
        "# max_counter : Max number of documents the reader must search for answer\n",
        "\n",
        "def bienc_search(query, top_k=5, max_counter= 8):\n",
        "  \n",
        "  ##### Sematic Search #####\n",
        "  #Encode the query using the bi-encoder and find potentially relevant docs\n",
        "  question_embedding = bi_encoder.encode(query, convert_to_tensor=True)\n",
        "  question_embedding = question_embedding.cuda()\n",
        "  hits = util.semantic_search(question_embedding, corpus_embeddings, top_k=100)\n",
        "  hits = hits[0]  # Get the hits for the first query\n",
        "\n",
        "  ##### Re-Ranking #####\n",
        "  #Now, score all retrieved docs with the cross_encoder\n",
        "  cross_inp = [[query, corpus[hit['corpus_id']]] for hit in hits]\n",
        "  cross_scores = cross_encoder.predict(cross_inp)\n",
        "\n",
        "  #Sort results by the cross-encoder scores\n",
        "  for idx in range(len(cross_scores)):\n",
        "      hits[idx]['cross-score'] = cross_scores[idx]\n",
        "\n",
        "\n",
        "  hits = sorted(hits, key=lambda x: x['cross-score'], reverse=True)\n",
        "  \n",
        "  max_counter = 0\n",
        "  counter = 0\n",
        "  for hit in hits:\n",
        "      max_counter += 1      \n",
        "      answer = find_answer(query, corpus[hit['corpus_id']])\n",
        "      if counter > top_k or max_counter > 4:\n",
        "          break \n",
        "      if answer != '':\n",
        "        counter += 1\n",
        "        print(f'Answer ====>> {wrapper.fill(answer)}')\n",
        "        print('\\n')\n",
        "        print(\"Conf Score: {:.3f}\".format(hit['cross-score']))\n",
        "        print('Doc {}: \\t {}'.format(counter, wrapper.fill(corpus[hit['corpus_id']][:1500])))\n",
        "        print('='* 200)\n",
        "        print('\\n')"
      ],
      "execution_count": null,
      "outputs": []
    },
    {
      "cell_type": "markdown",
      "metadata": {
        "id": "xqRsqynpJYji"
      },
      "source": [
        "We're done!\n",
        "\n",
        "Let's see, how well our search engine works!\n",
        "\n",
        "As a response to our query - \n",
        " - we get the `answer`\n",
        " - confidence score\n",
        " - a 1500 words `context` around the answer \n"
      ]
    },
    {
      "cell_type": "code",
      "metadata": {
        "colab": {
          "base_uri": "https://localhost:8080/"
        },
        "id": "sdmMKMnGg8HM",
        "outputId": "bea60444-f506-4745-9e68-bd276a0a78b2"
      },
      "source": [
        "query = \"What is contact tracing in the context of the COVID-19 pandemic?\"\n",
        "bienc_search(query = query, top_k= 5)"
      ],
      "execution_count": null,
      "outputs": [
        {
          "output_type": "stream",
          "text": [
            "Answer ====>>  a key mitigation strategy\n",
            "\n",
            "\n",
            "Conf Score: 6.926\n",
            "Doc 1: \t In the context of the COVID19 pandemic, contact tracing is a key mitigation strategy. It is of paramount importance amongst health care personnel as they are a highrisk group 1, 2.We work in a busy\n",
            "surgical department of a tertiary care centre in India. As part of the COVID19 infection control strategy, contact tracing amongst all healthcare workers was mandated at our institute and each\n",
            "department has delegated the task to conduct contact tracing for any member who is symptomatic or positive for COVID19. Initially, we adopted the traditional Interview based contact tracing IBCT\n",
            "which, we realised, had several disadvantages. IBCT took a significant amount of time, had no active motivation for healthcare workers to keep track of their contacts and other specific details, and\n",
            "in the event of an actual positive case being identified, a recall could be affected by psychological factors like anxiety and stress 3, 4. These factors could make the process of contact tracing less\n",
            "efficacious and hence, negatively impact the safety of our health care personnel.To address these concerns, we decided to implement an online data collection platform with a predefined questionnaire\n",
            "which would allow for the members to make entries at any time. This would improve uniformity and completeness in data collection. A dedicated native smartphone application would make the process more\n",
            "intuitive and convenient since all members generally have a smartphone with them during work hours.To avoid the sub\n",
            "========================================================================================================================================================================================================\n",
            "\n",
            "\n",
            "Answer ====>>  a key mitigation strategy\n",
            "\n",
            "\n",
            "Conf Score: 6.926\n",
            "Doc 2: \t In the context of the COVID19 pandemic, contact tracing is a key mitigation strategy. It is of paramount importance amongst health care personnel as they are a highrisk group 1, 2 .We work in a busy\n",
            "surgical department of a tertiary care centre in India. As part of the COVID19 infection control strategy, contact tracing amongst all healthcare workers was mandated at our institute and each\n",
            "department has delegated the task to conduct contact tracing for any member who is symptomatic or positive for COVID19. Initially, we adopted the traditional Interview based contact tracing IBCT\n",
            "which, we realised, had several disadvantages. IBCT took a significant amount of time, had no active motivation for healthcare workers to keep track of their contacts and other specific details, and\n",
            "in the event of an actual positive case being identified, a recall could be affected by psychological factors like anxiety and stress 3, 4 . These factors could make the process of contact tracing\n",
            "less efficacious and hence, negatively impact the safety of our health care personnel.To address these concerns, we decided to implement an online data collection platform with a predefined\n",
            "questionnaire which would allow for the members to make entries at any time. This would improve uniformity and completeness in data collection. A dedicated native smartphone application would make the\n",
            "process more intuitive and convenient since all members generally have a smartphone with them during work hours.To avoid the s\n",
            "========================================================================================================================================================================================================\n",
            "\n",
            "\n",
            "Answer ====>>  the process of identification of persons who may have come into contact with an infected person contacts for identifying and supporting exposed individuals to be quarantined on time\n",
            "\n",
            "\n",
            "Conf Score: 6.123\n",
            "Doc 3: \t The coronavirus pandemic COVID19 has quickly became a worldwide crisis. To help curb the spread of the COVID19 pandemic, government and public health authorities around the world have adopted numerous\n",
            "measures, including lockdowns, social distancing, and contact tracing. In general, contact tracing is the process of identification of persons who may have come into contact with an infected person\n",
            "contacts for identifying and supporting exposed individuals to be quarantined on time 1 . Past experience suggested that Contact tracing is the key to slowing the spread of contagious diseases,\n",
            "including COVID19 2 .As a result, governments and public health authorities around the world have launched a number of contacttracing mobile apps. By the time of this study, there are at least 50\n",
            "contact tracing apps in both Google Play and iOS App Store. For example, TraceTogether was released on March 18, which is the first Bluetooth based COVID19 contact tracing app released by the\n",
            "Singapore government. After that, a number of governmentbacked COVID19 contact tracing smartphone apps have been launched, e.g., AarogyaSetu India, COVIDSafe Australia, StopCovid France France, Immuni\n",
            "Italy, Corona Warn App Germany, etc. Besides, Apple and Google have collaborated to launch a framework that includes APIs and systemlevel supports to assist in enabling contact tracing. Although\n",
            "different techniques e.g., GPS and Bluetooth, architectures e.g., centralized and decentralized and protocols are used in t\n",
            "========================================================================================================================================================================================================\n",
            "\n",
            "\n"
          ],
          "name": "stdout"
        }
      ]
    }
  ]
}